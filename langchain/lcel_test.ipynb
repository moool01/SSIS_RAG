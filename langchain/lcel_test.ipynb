{
 "cells": [
  {
   "cell_type": "code",
   "execution_count": 2,
   "metadata": {},
   "outputs": [],
   "source": [
    "import os\n",
    "\n",
    "from langchain.vectorstores.chroma import Chroma\n",
    "from langchain.embeddings.sentence_transformer import SentenceTransformerEmbeddings\n",
    "\n",
    "#api key(추가해서 쓰시오)\n",
    "import settings\n",
    "import pickle\n",
    "\n",
    "from langchain.chains import LLMChain\n",
    "from langchain.chat_models import ChatOpenAI\n",
    "from langchain.retrievers import BM25Retriever, EnsembleRetriever\n",
    "from langchain.chains import RetrievalQA, HypotheticalDocumentEmbedder\n",
    "\n",
    "from langchain.prompts import PromptTemplate\n",
    "\n",
    "os.environ[\"OPENAI_API_KEY\"] = settings.openai_api_key\n",
    "\n",
    "# directory = os.path.dirname(__file__)\n",
    "# os.chdir(directory)\n",
    "\n",
    "def _device_check() : \n",
    "    ''' for check cuda availability '''\n",
    "    import torch\n",
    "    device = \"cuda\" if torch.cuda.is_available() else \"cpu\"\n",
    "    # torch.backends.mps.is_available()\n",
    "    return device\n"
   ]
  },
  {
   "cell_type": "code",
   "execution_count": 3,
   "metadata": {},
   "outputs": [
    {
     "name": "stderr",
     "output_type": "stream",
     "text": [
      "Special tokens have been added in the vocabulary, make sure the associated word embeddings are fine-tuned or trained.\n"
     ]
    }
   ],
   "source": [
    "#llm\n",
    "llm = ChatOpenAI(model=\"gpt-3.5-turbo-1106\", temperature=1)\n",
    "\n",
    "#embedding config\n",
    "embedding = SentenceTransformerEmbeddings(\n",
    "    model_name=\"BM-K/KoSimCSE-roberta-multitask\", \n",
    "    model_kwargs={'device':_device_check()}, \n",
    "    encode_kwargs={'normalize_embeddings':True},\n",
    "    )\n",
    "\n",
    "## embedding config - HyDE\n",
    "hyde_prompt_template = \"\"\" \n",
    "    Write a passage in Korean to answer the #question in detail.\n",
    "\n",
    "    #question : {question}\n",
    "    #passage : ...\n",
    "\n",
    "\"\"\"\n",
    "\n",
    "hyde_prompt_complete = PromptTemplate(input_variables=[\"question\"], template= hyde_prompt_template)"
   ]
  },
  {
   "cell_type": "code",
   "execution_count": 4,
   "metadata": {},
   "outputs": [],
   "source": [
    "# llm_chain = prompt | llm\n",
    "llm_chain = LLMChain(\n",
    "    llm=llm, \n",
    "    prompt=hyde_prompt_complete,\n",
    ")\n",
    "\n",
    "# HyDEembeddings = hyde_llm | embedding\n",
    "HyDEembeddings = HypotheticalDocumentEmbedder(\n",
    "    llm_chain=llm_chain,\n",
    "    base_embeddings=embedding,\n",
    ")\n",
    "\n",
    "#get vectorstore *HyDE Embedding\n",
    "vectorstore = Chroma(collection_name=\"vector_db\", persist_directory=\"./chroma_storage\", embedding_function=HyDEembeddings)\n",
    "\n",
    "# print(vectorstore.similarity_search(\"국가장학금\", k=3,))\n",
    "\n",
    "#get document from pickle(use as documents in bm25_retriever)\n",
    "# with open('./document.pkl', 'rb') as file :\n",
    "    # documents = pickle.load(file)\n",
    "\n",
    "documents = \"\"\"# 근로장려금\n",
    "\n",
    "### 대상\n",
    "\n",
    "근로·사업·종교인 소득이 있는 가구 중 소득·재산요건을 충족하는 가구\n",
    "* '22.12.31. 현재 가구원(배우자·18세 미만 부양자녀·70세 이상 직계존속) 유무와 배우자의 총급여액 등에 따라 가구를 구분하며, 자녀장려금은 부양자녀가 있어야 합니다.\n",
    "\n",
    "| 구분       | 설명 |\n",
    "|------------|------|\n",
    "| 단독가구   | 배우자, 부양자녀 및 부양 직계존속이 모두 없는 가구 |\n",
    "| 홑벌이 가구 | 배우자, 18세 미만 부양자녀 또는 부양 직계존속이 있는 가구(단, 배우자의 총급여액 등이 300만 원 미만인 경우에 한함) |\n",
    "| 맞벌이 가구 | 신청인과 배우자 각각의 총급여액 등이 300만 원 이상인 가구 |\n",
    "\n",
    "- 재산요건: 2022년 6월 1일 기준 재산 합계액 2.4억 원 미만인 가구\n",
    "- 소득요건: 가구 구성에 따라 2022년 총소득 기준금액이 아래 금액 미만인 가구\n",
    "\n",
    "| 구분       | 단독가구     | 홑벌이 가구   | 맞벌이 가구   |\n",
    "|------------|--------------|--------------|--------------|\n",
    "| 총소득기준금액 | 2,200만 원 | 3,200만 원 | 3,800만 원 |\n",
    "| 근로장려금 최대지급액 | 165만 원 | 285만 원 | 330만 원 |\n",
    "\n",
    "※ 재산 합계액이 1억 7,000만 원 이상 2억 4,000만 원 미만일 경우 장려금의 50% 지급\n",
    "\n",
    "### 내용\n",
    "\n",
    "일은 하지만 소득이 적어 생활이 어려운 근로자, 사업자(전문직 제외) 또는 종교인 가구에 대하여 근로장려금을 지급함으로써 근로 또는 사업을 장려하고 실질소득을 지원\n",
    "\n",
    "### 방법\n",
    "\n",
    "① (원칙) 매년 5월 신청 → 9월 지급<br>\n",
    "※ 기한 후 신청 시(6.1~11.30) 10% 감액 지급<br>\n",
    "② (근로소득자) 당해연도 반기별 지급 선택 가능<br>\n",
    "- (상반기 소득분) 9.1∼9.15 신청, 12월 말 지급<br>\n",
    "- (하반기 소득분) 다음해 3.1∼3.15 신청, 6월말 정산(지급/환수)<br>\n",
    "③ (신청방법)<br>\n",
    "- 전자신청(ARS 전화 ☎1544-9944, 홈택스(PC, 모바일앱))<br>\n",
    "- 신청대리* 서비스(장려금 상담센터(☎1566-3636)나 세무서로 전화하여 신청 요청)<br>\n",
    "* 안내대상자 중 고령자, 장애인 등 전자신청을 어려워하는 경우\n",
    "\n",
    "### 문의\n",
    "\n",
    "국세상담센터(☎126)\"\"\"\n",
    "\n",
    "#Vector Search Retriever\n",
    "chroma_retriever = vectorstore.as_retriever(search_type='mmr', search_kwargs={\"k\":5},)\n",
    "\n",
    "#BM25 Retriever\n",
    "bm25_retriever = BM25Retriever.from_documents(documents=documents)\n",
    "bm25_retriever.k = 5\n",
    "\n",
    "#ensemble\n",
    "ensemble_retriever = EnsembleRetriever(retrievers=[bm25_retriever, chroma_retriever], weights=[0.5, 0.5],)"
   ]
  },
  {
   "cell_type": "code",
   "execution_count": 10,
   "metadata": {},
   "outputs": [],
   "source": [
    "prompt_template = \"\"\"당신은 지역사회에서 다양한 층의 사람들을 돕고 지원하는 사회복지사입니다.\n",
    "    여러 사회문제에 대한 인식과 사회적 책임감을 가지고 있으며, 개별 개인의 상황을 정확히 파악하여 맞춤형 도움을 제공하는 데 주력하고 있습니다.\n",
    "    사회복지사로서 아래 {context}를 기반으로 하여, 사람들의 질문에 최대한 상세하고 정확한 정보를 제공하기 위해 노력하고 있습니다.\n",
    "    ==========\n",
    "    #Context : \n",
    "    {context}\n",
    "    \n",
    "    ==========\n",
    "    #Question: {query}\n",
    "    \"\"\"\n",
    "    \n",
    "prompt = PromptTemplate(template=prompt_template, input_variables=[\"context\", \"query\"])"
   ]
  },
  {
   "cell_type": "code",
   "execution_count": null,
   "metadata": {},
   "outputs": [],
   "source": [
    "# con = \"\"\"# 근로장려금\n",
    "\n",
    "### 대상\n",
    "\n",
    "근로·사업·종교인 소득이 있는 가구 중 소득·재산요건을 충족하는 가구\n",
    "* '22.12.31. 현재 가구원(배우자·18세 미만 부양자녀·70세 이상 직계존속) 유무와 배우자의 총급여액 등에 따라 가구를 구분하며, 자녀장려금은 부양자녀가 있어야 합니다.\n",
    "\n",
    "| 구분       | 설명 |\n",
    "|------------|------|\n",
    "| 단독가구   | 배우자, 부양자녀 및 부양 직계존속이 모두 없는 가구 |\n",
    "| 홑벌이 가구 | 배우자, 18세 미만 부양자녀 또는 부양 직계존속이 있는 가구(단, 배우자의 총급여액 등이 300만 원 미만인 경우에 한함) |\n",
    "| 맞벌이 가구 | 신청인과 배우자 각각의 총급여액 등이 300만 원 이상인 가구 |\n",
    "\n",
    "- 재산요건: 2022년 6월 1일 기준 재산 합계액 2.4억 원 미만인 가구\n",
    "- 소득요건: 가구 구성에 따라 2022년 총소득 기준금액이 아래 금액 미만인 가구\n",
    "\n",
    "| 구분       | 단독가구     | 홑벌이 가구   | 맞벌이 가구   |\n",
    "|------------|--------------|--------------|--------------|\n",
    "| 총소득기준금액 | 2,200만 원 | 3,200만 원 | 3,800만 원 |\n",
    "| 근로장려금 최대지급액 | 165만 원 | 285만 원 | 330만 원 |\n",
    "\n",
    "※ 재산 합계액이 1억 7,000만 원 이상 2억 4,000만 원 미만일 경우 장려금의 50% 지급\n",
    "\n",
    "### 내용\n",
    "\n",
    "일은 하지만 소득이 적어 생활이 어려운 근로자, 사업자(전문직 제외) 또는 종교인 가구에 대하여 근로장려금을 지급함으로써 근로 또는 사업을 장려하고 실질소득을 지원\n",
    "\n",
    "### 방법\n",
    "\n",
    "① (원칙) 매년 5월 신청 → 9월 지급<br>\n",
    "※ 기한 후 신청 시(6.1~11.30) 10% 감액 지급<br>\n",
    "② (근로소득자) 당해연도 반기별 지급 선택 가능<br>\n",
    "- (상반기 소득분) 9.1∼9.15 신청, 12월 말 지급<br>\n",
    "- (하반기 소득분) 다음해 3.1∼3.15 신청, 6월말 정산(지급/환수)<br>\n",
    "③ (신청방법)<br>\n",
    "- 전자신청(ARS 전화 ☎1544-9944, 홈택스(PC, 모바일앱))<br>\n",
    "- 신청대리* 서비스(장려금 상담센터(☎1566-3636)나 세무서로 전화하여 신청 요청)<br>\n",
    "* 안내대상자 중 고령자, 장애인 등 전자신청을 어려워하는 경우\n",
    "\n",
    "### 문의\n",
    "\n",
    "국세상담센터(☎126)\"\"\""
   ]
  },
  {
   "cell_type": "code",
   "execution_count": 12,
   "metadata": {},
   "outputs": [],
   "source": [
    "# from analogical_prompt_test import lcel_prompt\n",
    "\n",
    "# type(lcel_prompt(con, \"소득이 적은데 무슨 도움을 받을 수 있을까요?\"))\n",
    "# type(con)\n",
    "# # print(lcel_prompt(con, \"소득이 적은데 무슨 도움을 받을 수 있을까요?\"))"
   ]
  },
  {
   "cell_type": "code",
   "execution_count": 13,
   "metadata": {},
   "outputs": [],
   "source": [
    "chain_type_kwargs = {\"prompt\": prompt}"
   ]
  },
  {
   "cell_type": "code",
   "execution_count": 14,
   "metadata": {},
   "outputs": [
    {
     "name": "stdout",
     "output_type": "stream",
     "text": [
      "[Document(page_content='국가장학금, 유형, 다자녀(세 자녀 이상)\\n\\n대상\\n\\n 구분  지원대상 \\n\\n 국가장학금 I유형  국내 대학에 재학 중인 학자금지원 8구간 이하 대학생 \\n 국가장학금 II유형  학자금지원 9구간 이하 대학생 중 대학 자체 기준에 따라 선발 \\n 다자녀 국가장학금(세자녀 이상)  국내 대학에 재학 중인 학자금지원 8구간 이하, 다자녀(자녀 셋 이상) 가구의 모든 대학생(미혼에 한함) \\n\\n 유형 및 다자녀 국가장학금은 성적(B0, 80100점 이상) 및 이수학점(직전학기 12학점 이상) 충족 필요\\n\\n 단, 기초·차상위 학생은 C0(70100점) 이상 적용, 학자금지원 13구간 학생은 C학점 경고제 2회 적용, 장애인 학생은 성적기준 미적용\\n\\n 신입생, 편입생, 재입학생은 첫 학기에 한해 성적기준 미적용\\n\\n내용\\n\\n유형, 다자녀  등록금 필수 경비(수업료)를 초과하지 않는 범위 내에서 차등 지원\\n\\n2023년 학자금 지원구간별 연간 국가장학금 최대 지원가능 금액 (단위  만 원)\\n\\n 구분  기초·차상위  1구간  2구간  3구간  4구간  5구간  6구간  7구간  8구간 \\n\\n 유형  700(둘째전액)  520  520  520  390  390  390  350  350 \\n 다자녀(첫째,둘째)  700(둘째전액)  520  520  520  450  450  450  450  450 \\n 다자녀(셋째 이상)  전액  전액  전액  전액  전액  전액  전액  전액  전액 \\n\\n유형  참여 대학의 자체 선발 기준(학자금 지원 9구간 이하)에 따라 장학금 차등 지원\\n 단, 긴급하게 경제사정이 곤란하게 된 자 등 대학이 지원 필요성이 있다고 인정하는 경우 10구간도 지원 가능\\n\\n방법\\n\\n한국장학재단 누리집 및 모바일 앱에서 신청(httpswww.kosaf.go.kr)\\n\\n문의\\n\\n한국장학재단(15992000, www.kosaf.go.kr)\\n\\n알려드립니다\\n\\n학자금 지원구간이란\\n경제적 여건에 따라 학자금지원 범위를 다르게 정하기 위해 학생 본인 및 가구원의 소득, 재산(사회보장 정보시스템)을 기준으로 산정한 월 소득 인정액에 따라 개인별 지원구간(110구간)을 결정하는 제도입니다.\\n형제·자매가 본인을 포함해 셋 이상인 미혼 학생은 형제·자매 수에 따른 인적 공제 적용', metadata={'source': 'markdowndb\\\\04_청소년•청년_지원\\\\04_국가장학금[Ⅰ_Ⅱ유형_다자녀(세_자녀_이상)].md'}), Document(page_content='농촌출신 대학생 학자금 융자사업\\n\\n대상\\n\\n농어촌지역에 주민등록 주소를 두고 6개월(180일) 이상 거주하고 있거나 농어업에 종사하고 있는 학부모(보호자)의 자녀(대학생) 또는 농어업에 종사하는 대학생 본인\\n\\n직전학기 성적 70점100점(C학점) 이상, 12학점 이상 이수한 대학생\\n\\n 소속대학의 최저 이수학점이 12학점 미만인 경우는 대학 학사규정에 의함\\n\\n 신입생군(신입생, 편입생, 재입학생), 장애인인 경우 성적, 이수학점 기준 적용 제외\\n\\n 졸업 학년 학생의 경우 이수학점 기준 적용 제외\\n\\n순위별 세부 자격 요건\\n\\n 순위    세부 자격 요건                                                                                          \\n\\n 1순위    농어업에 종사하는 학부모(보호자)의 자녀(대학생)  농어업에 종사하는 대학생 본인  기초생활수급자, 차상위계층, 장애인, 다문화가족, 다자녀가구(3자녀 이상) \\n 2순위    농어촌지역에 거주하는 학부모(보호자)의 자녀(대학생)                                                    \\n 3순위    특별승인자                                                                                           \\n\\n내용\\n\\n당해 학기 대학이 통보한 등록금(입학금, 수업료 등) 범위 내 전액 무이자 대출\\n\\n방법\\n\\n한국장학재단 누리집(httpswww.kosaf.go.kr)에서 신청\\n\\n문의\\n\\n한국장학재단(15992290, www.kosaf.go.kr)\\n\\n자주 하는 질문\\n\\n농촌학자금융자를 신청하려고 합니다. 나이제한이 있나요\\n\\n농촌학자금융자는 나이제한은 없으며, 대한민국 국적인 대학(교) 학부생이면 됩니다\\n\\n농촌학자금융자는 생활비 대출은 없나요\\n\\n농촌학자금융자는 당해 학기 등록금 대출로만 이용가능하며, 생활비 대출은 한국장학재단에서 운영하는 타 학자금대출을 이용하시면 됩니다.', metadata={'source': 'markdowndb\\\\04_청소년•청년_지원\\\\04_농촌출신_대학생_학자금_융자사업.md'}), Document(page_content='대학생 청소년교육지원사업\\n\\n대상\\n\\n사업 참여대학에 재학중인 학생 중, 아래의 성적 요건을 충족한 학생\\n (성적) C0학점(70100점) 이상\\n\\n내용\\n\\n매월 활동시간당 장학금 지급\\n\\n시간당 단가  11,150원\\n\\n최대근로시간\\n1일 8시간\\n1주당 20시간(단, 방학 중 40시간)\\n1학기당 최대 520시간\\n\\n연간 10시간 미만 활동 시 장학금 미지급\\n\\n방법\\n\\n한국장학재단 누리집(httpswww.kosaf.go.kr) 및 모바일 앱에서 온라인 신청\\n\\n문의\\n\\n한국장학재단(15992290, www.kosaf.go.kr)', metadata={'source': 'markdowndb\\\\04_청소년•청년_지원\\\\04_대학생_청소년교육지원사업.md'}), Document(page_content='대학생 연합생활관(롯데,마포)\\n\\n대상\\n\\n 단, 대학소재지, 이수학점(학기) 기준 등 자세한 선발기준은 홈페이지 참조\\n\\n내용\\n\\n위치  서울시 마포구 희우정로 90(지하철 2호선 합정역, 6호선 망원역 인근)\\n\\n수용인원  총 138명(69실)\\n\\n기숙사비  생활관비 무상(2인 1실)  보증금 30만 원(퇴실 시 전액 환급)\\n\\n주요 편의시설  공동취사실, 세탁실, 독서실, 멘토링실, 체력단련실 등\\n\\n방법\\n\\n모집시기  1월\\n\\n신청방법  한국장학재단 누리집(httpswww.kosaf.go.kr)에서 온라인 신청\\n\\n문의\\n\\n한국장학재단(15992290, www.kosaf.go.kr)', metadata={'source': 'markdowndb\\\\04_청소년•청년_지원\\\\04_대학생_연합생활관(롯데,마포).md'}), Document(page_content='대학생 연합생활관(은행권, 고양)\\n\\n대상\\n\\n국내 소재 대학(원) 소속 학생(휴학생 및 외국인도 입주 가능)\\n\\n내용\\n\\n위치  경기도 고양시 덕양구 원흥1로 23(지하철 3호선 원흥역 인근)\\n\\n수용인원  총 986명(493실, 장애인 5실 별도)\\n\\n기숙사비  월 15만 원(2인 1실)  보증금 15만 원(퇴실 시 전액 환급)\\n\\n주요 편의시설  식당, 카페, 편의점, 세탁실, 도서관, 멀티미디어실, 열람실, 체력단련실, 공동취사실\\n\\n방법\\n\\n모집시기\\n\\n정기모집  1월(1학기), 7월(2학기 예정)\\n\\n수시모집  공실 발생 시 매월 첫째 주 수시모집 예정\\n\\n신청방법  한국장학재단 누리집(httpswww.kosaf.go.kr)에서 온라인 신청\\n\\n문의\\n\\n한국장학재단(15992290, www.kosaf.go.kr)', metadata={'source': 'markdowndb\\\\04_청소년•청년_지원\\\\04_대학생_연합생활관(은행권,고양).md'})]\n"
     ]
    }
   ],
   "source": [
    "#setup chain\n",
    "chain = RetrievalQA.from_chain_type(\n",
    "                    llm=llm,\n",
    "                    chain_type=\"stuff\",\n",
    "                    retriever=ensemble_retriever,\n",
    "                    chain_type_kwargs=chain_type_kwargs)\n",
    "\n",
    "# print(ensemble_retriever.get_relevant_documents(\"대학생 국가장학금\"))\n",
    "\n",
    "###prompt 수정 필요\n",
    "result = chain.run(\"소득이 적어 생활이 어려우면 어떡하죠?\")\n",
    "print(result)"
   ]
  },
  {
   "cell_type": "code",
   "execution_count": null,
   "metadata": {},
   "outputs": [],
   "source": [
    "# Set up RetrievalQA chain using LCEL\n",
    "chain = (\n",
    "    {\"context\": ensemble_retriever, \"question\": prompt}\n",
    "    | llm\n",
    "    )"
   ]
  },
  {
   "cell_type": "code",
   "execution_count": null,
   "metadata": {},
   "outputs": [],
   "source": [
    "# Run the chain with the modified prompt\n",
    "result = chain.invoke({\"context\": con, \"question\": \"소득이 적어 생활이 어려우면 어떡하죠?\"})"
   ]
  }
 ],
 "metadata": {
  "kernelspec": {
   "display_name": "seah",
   "language": "python",
   "name": "python3"
  },
  "language_info": {
   "codemirror_mode": {
    "name": "ipython",
    "version": 3
   },
   "file_extension": ".py",
   "mimetype": "text/x-python",
   "name": "python",
   "nbconvert_exporter": "python",
   "pygments_lexer": "ipython3",
   "version": "3.10.12"
  }
 },
 "nbformat": 4,
 "nbformat_minor": 2
}
